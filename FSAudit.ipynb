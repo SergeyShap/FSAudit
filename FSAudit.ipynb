{
 "cells": [
  {
   "cell_type": "code",
   "execution_count": 4,
   "metadata": {},
   "outputs": [],
   "source": [
    "import numpy as np\n",
    "import pandas as pd\n",
    "import shutil\n",
    "\n",
    "disks = ['C:\\\\', 'E:\\\\', 'F:\\\\']\n",
    "l = len(disks)\n",
    "a = []\n",
    "for i in disks:\n",
    "    a.append(shutil.disk_usage(i))"
   ]
  },
  {
   "cell_type": "code",
   "execution_count": 5,
   "metadata": {},
   "outputs": [],
   "source": [
    "#в Gb\n",
    "def formatSize(bytes):\n",
    "    try:\n",
    "        bytes = float(bytes)\n",
    "        kb = bytes / 1024\n",
    "    except:\n",
    "        return \"Error\"\n",
    "    if kb >= 1024:\n",
    "        M = kb / 1024\n",
    "        if M >= 1024:\n",
    "            G = M / 1024\n",
    "            return round(G)\n",
    "        else:\n",
    "            return round(M * 0.001, 2)\n",
    "    else:\n",
    "        return  round(kb * 0.000001, 2)"
   ]
  },
  {
   "cell_type": "code",
   "execution_count": 6,
   "metadata": {},
   "outputs": [],
   "source": [
    "total = [formatSize(a[i][0]) for i in range(0,l)]\n",
    "used = [formatSize(a[i][1]) for i in range(0,l)]\n",
    "free = [formatSize(a[i][2]) for i in range(0,l)]\n",
    "#print(\"disks:    \",disks)\n",
    "#print(\"Total Gb: \", total)\n",
    "#print(\"Used Gb:  \", used)\n",
    "#print(\"Free Gb:  \", free)"
   ]
  },
  {
   "cell_type": "code",
   "execution_count": 7,
   "metadata": {
    "scrolled": false
   },
   "outputs": [
    {
     "data": {
      "text/html": [
       "<div>\n",
       "<style scoped>\n",
       "    .dataframe tbody tr th:only-of-type {\n",
       "        vertical-align: middle;\n",
       "    }\n",
       "\n",
       "    .dataframe tbody tr th {\n",
       "        vertical-align: top;\n",
       "    }\n",
       "\n",
       "    .dataframe thead th {\n",
       "        text-align: right;\n",
       "    }\n",
       "</style>\n",
       "<table border=\"1\" class=\"dataframe\">\n",
       "  <thead>\n",
       "    <tr style=\"text-align: right;\">\n",
       "      <th></th>\n",
       "      <th>disks</th>\n",
       "      <th>total</th>\n",
       "      <th>used</th>\n",
       "      <th>free</th>\n",
       "    </tr>\n",
       "  </thead>\n",
       "  <tbody>\n",
       "    <tr>\n",
       "      <th>0</th>\n",
       "      <td>C:\\</td>\n",
       "      <td>231</td>\n",
       "      <td>212</td>\n",
       "      <td>19</td>\n",
       "    </tr>\n",
       "    <tr>\n",
       "      <th>1</th>\n",
       "      <td>E:\\</td>\n",
       "      <td>1000</td>\n",
       "      <td>582</td>\n",
       "      <td>418</td>\n",
       "    </tr>\n",
       "    <tr>\n",
       "      <th>2</th>\n",
       "      <td>F:\\</td>\n",
       "      <td>662</td>\n",
       "      <td>385</td>\n",
       "      <td>278</td>\n",
       "    </tr>\n",
       "  </tbody>\n",
       "</table>\n",
       "</div>"
      ],
      "text/plain": [
       "  disks total used free\n",
       "0   C:\\   231  212   19\n",
       "1   E:\\  1000  582  418\n",
       "2   F:\\   662  385  278"
      ]
     },
     "execution_count": 7,
     "metadata": {},
     "output_type": "execute_result"
    }
   ],
   "source": [
    "space_df = pd.DataFrame([disks, total, used, free], index=['disks', 'total', 'used', 'free', ] ).T\n",
    "space_df"
   ]
  },
  {
   "cell_type": "code",
   "execution_count": 313,
   "metadata": {
    "scrolled": true
   },
   "outputs": [
    {
     "data": {
      "image/png": "[encoded data removed]",
      "text/plain": [
       "<Figure size 360x360 with 1 Axes>"
      ]
     },
     "metadata": {},
     "output_type": "display_data"
    }
   ],
   "source": [
    "#Построим график, на котором видно соотношение свободного пространства к занятому\n",
    "import seaborn as sns\n",
    "import matplotlib.pyplot as plt\n",
    "\n",
    "sns.set_theme(style=\"whitegrid\")\n",
    "\n",
    "# Initialize the matplotlib figure\n",
    "f, ax = plt.subplots(figsize=(5, 5))\n",
    "\n",
    "# Load the example car crash dataset\n",
    "sort_space = sns.load_dataset(\"car_crashes\").sort_values(\"total\", ascending=False)\n",
    "\n",
    "# Plot the total crashes\n",
    "sns.set_color_codes(\"pastel\")\n",
    "sns.barplot(x=\"total\", y=\"disks\", data=space_df,\n",
    "            label=\"total\", color=\"b\")\n",
    "\n",
    "sns.set_color_codes(\"muted\")\n",
    "sns.barplot(x=\"used\", y=\"disks\", data=space_df,\n",
    "            label=\"used\", color=\"b\")\n",
    "\n",
    "# Add a legend and informative axis label\n",
    "ax.legend(ncol=2, loc=\"upper right\", frameon=True)\n",
    "ax.set(xlim=(0, 1100), ylabel=\"Disks\",\n",
    "       xlabel=\"Disk usage space vs total\")\n",
    "sns.despine(left=True, bottom=True)"
   ]
  },
  {
   "cell_type": "code",
   "execution_count": 81,
   "metadata": {},
   "outputs": [
    {
     "data": {
      "text/plain": [
       "([<matplotlib.patches.Wedge at 0x261d19f77b8>,\n",
       "  <matplotlib.patches.Wedge at 0x261d19f7978>],\n",
       " [Text(-0.07811861447430153, 1.0972226219289392, ''),\n",
       "  Text(0.07811861447430139, -1.0972226219289392, '')])"
      ]
     },
     "execution_count": 81,
     "metadata": {},
     "output_type": "execute_result"
    },
    {
     "data": {
      "image/png": "[encoded data removed]",
      "text/plain": [
       "<Figure size 432x288 with 1 Axes>"
      ]
     },
     "metadata": {},
     "output_type": "display_data"
    }
   ],
   "source": [
    "from matplotlib.pyplot import pie\n",
    "\n",
    "pie([space_df['total'][0], space_df['used'][0]])"
   ]
  },
  {
   "cell_type": "code",
   "execution_count": 83,
   "metadata": {
    "scrolled": true
   },
   "outputs": [
    {
     "data": {
      "text/plain": [
       "([<matplotlib.patches.Wedge at 0x261d1f7ca20>,\n",
       "  <matplotlib.patches.Wedge at 0x261d1f7c828>],\n",
       " [Text(-0.443548923158026, 1.0066103281634635, ''),\n",
       "  Text(0.4435489231580259, -1.0066103281634635, '')])"
      ]
     },
     "execution_count": 83,
     "metadata": {},
     "output_type": "execute_result"
    },
    {
     "data": {
      "image/png": "[encoded data removed]",
      "text/plain": [
       "<Figure size 432x288 with 1 Axes>"
      ]
     },
     "metadata": {},
     "output_type": "display_data"
    }
   ],
   "source": [
    "pie([space_df['total'][1], space_df['used'][1]])"
   ]
  },
  {
   "cell_type": "code",
   "execution_count": 84,
   "metadata": {},
   "outputs": [
    {
     "data": {
      "text/plain": [
       "([<matplotlib.patches.Wedge at 0x261d2092710>,\n",
       "  <matplotlib.patches.Wedge at 0x261d2092320>],\n",
       " [Text(-0.4440911482980337, 1.0063712297176097, ''),\n",
       "  Text(0.4440912425213062, -1.0063711881387913, '')])"
      ]
     },
     "execution_count": 84,
     "metadata": {},
     "output_type": "execute_result"
    },
    {
     "data": {
      "image/png": "[encoded data removed]",
      "text/plain": [
       "<Figure size 432x288 with 1 Axes>"
      ]
     },
     "metadata": {},
     "output_type": "display_data"
    }
   ],
   "source": [
    "pie([space_df['total'][2], space_df['used'][2]])"
   ]
  },
  {
   "cell_type": "code",
   "execution_count": 22,
   "metadata": {},
   "outputs": [
    {
     "name": "stdout",
     "output_type": "stream",
     "text": [
      "Requirement already up-to-date: seaborn in c:\\users\\serg\\anaconda3\\lib\\site-packages (0.11.0)\n",
      "Requirement already satisfied, skipping upgrade: matplotlib>=2.2 in c:\\users\\serg\\anaconda3\\lib\\site-packages (from seaborn) (3.2.2)\n",
      "Requirement already satisfied, skipping upgrade: scipy>=1.0 in c:\\users\\serg\\anaconda3\\lib\\site-packages (from seaborn) (1.5.0)\n",
      "Requirement already satisfied, skipping upgrade: pandas>=0.23 in c:\\users\\serg\\anaconda3\\lib\\site-packages (from seaborn) (1.0.5)\n",
      "Requirement already satisfied, skipping upgrade: numpy>=1.15 in c:\\users\\serg\\anaconda3\\lib\\site-packages (from seaborn) (1.18.5)\n",
      "Requirement already satisfied, skipping upgrade: pyparsing!=2.0.4,!=2.1.2,!=2.1.6,>=2.0.1 in c:\\users\\serg\\anaconda3\\lib\\site-packages (from matplotlib>=2.2->seaborn) (2.4.7)\n",
      "Requirement already satisfied, skipping upgrade: python-dateutil>=2.1 in c:\\users\\serg\\anaconda3\\lib\\site-packages (from matplotlib>=2.2->seaborn) (2.8.1)\n",
      "Requirement already satisfied, skipping upgrade: kiwisolver>=1.0.1 in c:\\users\\serg\\anaconda3\\lib\\site-packages (from matplotlib>=2.2->seaborn) (1.2.0)\n",
      "Requirement already satisfied, skipping upgrade: cycler>=0.10 in c:\\users\\serg\\anaconda3\\lib\\site-packages (from matplotlib>=2.2->seaborn) (0.10.0)\n",
      "Requirement already satisfied, skipping upgrade: pytz>=2017.2 in c:\\users\\serg\\anaconda3\\lib\\site-packages (from pandas>=0.23->seaborn) (2020.1)\n",
      "Requirement already satisfied, skipping upgrade: six>=1.5 in c:\\users\\serg\\anaconda3\\lib\\site-packages (from python-dateutil>=2.1->matplotlib>=2.2->seaborn) (1.15.0)\n"
     ]
    }
   ],
   "source": [
    "!pip install seaborn --upgrade"
   ]
  },
  {
   "cell_type": "code",
   "execution_count": 1,
   "metadata": {},
   "outputs": [
    {
     "ename": "NameError",
     "evalue": "name 'sns' is not defined",
     "output_type": "error",
     "traceback": [
      "\u001b[1;31m---------------------------------------------------------------------------\u001b[0m",
      "\u001b[1;31mNameError\u001b[0m                                 Traceback (most recent call last)",
      "\u001b[1;32m<ipython-input-1-f1de6d5e5d75>\u001b[0m in \u001b[0;36m<module>\u001b[1;34m\u001b[0m\n\u001b[1;32m----> 1\u001b[1;33m \u001b[0msns\u001b[0m\u001b[1;33m.\u001b[0m\u001b[0m__version__\u001b[0m\u001b[1;33m\u001b[0m\u001b[1;33m\u001b[0m\u001b[0m\n\u001b[0m",
      "\u001b[1;31mNameError\u001b[0m: name 'sns' is not defined"
     ]
    }
   ],
   "source": [
    "sns.__version__"
   ]
  },
  {
   "cell_type": "code",
   "execution_count": 198,
   "metadata": {},
   "outputs": [],
   "source": [
    "a = []\n",
    "for i in disks:\n",
    "    a.append(formatSize(shutil.disk_usage(i)))"
   ]
  },
  {
   "cell_type": "code",
   "execution_count": 11,
   "metadata": {},
   "outputs": [],
   "source": [
    "import os\n",
    "import stat\n",
    "from datetime import datetime, date\n",
    "\n",
    "def print_dirs_recursively(root_dir):\n",
    "    os.chmod(root_dir, stat.S_IWRITE)\n",
    "    root_dir = os.path.abspath(root_dir)\n",
    "    print(root_dir)\n",
    "\n",
    "    for item in os.listdir(root_dir):\n",
    "        item_full_path = os.path.join(root_dir, item)\n",
    "        if os.path.isdir(item_full_path):\n",
    "            print_dirs_recursively(item_full_path)"
   ]
  },
  {
   "cell_type": "code",
   "execution_count": 135,
   "metadata": {},
   "outputs": [],
   "source": [
    "#print_dirs_recursively(disks[0])"
   ]
  },
  {
   "cell_type": "code",
   "execution_count": 136,
   "metadata": {},
   "outputs": [],
   "source": [
    "dir_path='C:\\\\Users\\\\Serg\\\\Documents'\n",
    "fill = []"
   ]
  },
  {
   "cell_type": "code",
   "execution_count": 137,
   "metadata": {},
   "outputs": [],
   "source": [
    "import pathlib\n",
    "for filepath in pathlib.Path(dir_path).glob('**/*'):\n",
    "    fill.append(filepath.absolute())"
   ]
  },
  {
   "cell_type": "code",
   "execution_count": 139,
   "metadata": {},
   "outputs": [],
   "source": [
    "import pathlib\n",
    "file_name_list, get_file_size, file_names = [], [], []\n",
    "file_ext, getCTime, getMTime = [], [], []\n",
    "for filepath in pathlib.Path(dir_path).glob('**/*'):\n",
    "    #print(os.path.isfile(os.path.basename(filepath)))\n",
    "    if os.path.isfile(filepath.absolute()):\n",
    "        #get file name\n",
    "        file_names.append(os.path.basename(filepath))\n",
    "        \n",
    "        #get filepath\n",
    "        test_list.append(os.path.abspath(filepath.absolute()))\n",
    "        \n",
    "        #get file size\n",
    "        get_file_size.append(os.path.getsize(filepath.absolute()))\n",
    "        \n",
    "        #get file extension\n",
    "        _, file_extension = os.path.splitext(filepath.absolute())\n",
    "        file_ext.append(file_extension)  \n",
    "        \n",
    "        getCTime.append(os.path.getctime(filepath)) #Get creation time\n",
    "        getMTime.append(os.path.getmtime(filepath)) # Get modified time\n",
    "        "
   ]
  },
  {
   "cell_type": "code",
   "execution_count": 156,
   "metadata": {},
   "outputs": [],
   "source": [
    "# get_file_size - результат в байтах\n",
    "#  Переведем для простоты в Мегабайты (Mb)\n",
    "file_sizes = [round(((x / 1024)/1024), 2) for x in get_file_size]"
   ]
  },
  {
   "cell_type": "code",
   "execution_count": 157,
   "metadata": {},
   "outputs": [],
   "source": [
    "#Создаем список кортежей, для нашего будущего датафрейма\n",
    "data_tuples = list(zip(test_list, file_names, file_ext, getCTime, getMTime, file_sizes))"
   ]
  },
  {
   "cell_type": "markdown",
   "metadata": {},
   "source": [
    "# Check List\n",
    "\n",
    "* ~конечно лучше, для простоты выдернуть названия файлов. выдернул~\n",
    "* ~Выдернуть расширения, будет интересно посмотреть сколько каких файлов создается~\n",
    "* ~необходимо добавить время создания файла~\n",
    "* ~время его последней модификаций~\n",
    "\n",
    "* hash файла? проверить копию файла и основной файл на совпадение ъешей, можно будет поискать дубли\n",
    "* обернуть всё в функций, возможно в классы(?) для удобства и загрузки в крон.\n",
    "\n",
    "* Копирование и сжатие файлов\n",
    "* построение дашборда (?)"
   ]
  },
  {
   "cell_type": "code",
   "execution_count": 158,
   "metadata": {
    "scrolled": true
   },
   "outputs": [
    {
     "data": {
      "text/html": [
       "<div>\n",
       "<style scoped>\n",
       "    .dataframe tbody tr th:only-of-type {\n",
       "        vertical-align: middle;\n",
       "    }\n",
       "\n",
       "    .dataframe tbody tr th {\n",
       "        vertical-align: top;\n",
       "    }\n",
       "\n",
       "    .dataframe thead th {\n",
       "        text-align: right;\n",
       "    }\n",
       "</style>\n",
       "<table border=\"1\" class=\"dataframe\">\n",
       "  <thead>\n",
       "    <tr style=\"text-align: right;\">\n",
       "      <th></th>\n",
       "      <th>FullPath</th>\n",
       "      <th>FileName</th>\n",
       "      <th>FileExt</th>\n",
       "      <th>Creation time</th>\n",
       "      <th>Modified time</th>\n",
       "      <th>Size</th>\n",
       "    </tr>\n",
       "  </thead>\n",
       "  <tbody>\n",
       "    <tr>\n",
       "      <th>0</th>\n",
       "      <td>C:\\Users\\Serg\\Documents\\123.pcapng</td>\n",
       "      <td>123.pcapng</td>\n",
       "      <td>.pcapng</td>\n",
       "      <td>1.556492e+09</td>\n",
       "      <td>1.556492e+09</td>\n",
       "      <td>202.18</td>\n",
       "    </tr>\n",
       "    <tr>\n",
       "      <th>1</th>\n",
       "      <td>C:\\Users\\Serg\\Documents\\desktop.ini</td>\n",
       "      <td>desktop.ini</td>\n",
       "      <td>.ini</td>\n",
       "      <td>1.553546e+09</td>\n",
       "      <td>1.599918e+09</td>\n",
       "      <td>0.00</td>\n",
       "    </tr>\n",
       "    <tr>\n",
       "      <th>2</th>\n",
       "      <td>C:\\Users\\Serg\\Documents\\hotspot2.zip</td>\n",
       "      <td>hotspot2.zip</td>\n",
       "      <td>.zip</td>\n",
       "      <td>1.558729e+09</td>\n",
       "      <td>1.558729e+09</td>\n",
       "      <td>0.07</td>\n",
       "    </tr>\n",
       "    <tr>\n",
       "      <th>3</th>\n",
       "      <td>C:\\Users\\Serg\\Documents\\test.jpg</td>\n",
       "      <td>test.jpg</td>\n",
       "      <td>.jpg</td>\n",
       "      <td>1.599601e+09</td>\n",
       "      <td>1.599601e+09</td>\n",
       "      <td>0.05</td>\n",
       "    </tr>\n",
       "    <tr>\n",
       "      <th>4</th>\n",
       "      <td>C:\\Users\\Serg\\Documents\\Untitled.ipynb</td>\n",
       "      <td>Untitled.ipynb</td>\n",
       "      <td>.ipynb</td>\n",
       "      <td>1.570129e+09</td>\n",
       "      <td>1.570129e+09</td>\n",
       "      <td>0.00</td>\n",
       "    </tr>\n",
       "  </tbody>\n",
       "</table>\n",
       "</div>"
      ],
      "text/plain": [
       "                                 FullPath        FileName  FileExt  \\\n",
       "0      C:\\Users\\Serg\\Documents\\123.pcapng      123.pcapng  .pcapng   \n",
       "1     C:\\Users\\Serg\\Documents\\desktop.ini     desktop.ini     .ini   \n",
       "2    C:\\Users\\Serg\\Documents\\hotspot2.zip    hotspot2.zip     .zip   \n",
       "3        C:\\Users\\Serg\\Documents\\test.jpg        test.jpg     .jpg   \n",
       "4  C:\\Users\\Serg\\Documents\\Untitled.ipynb  Untitled.ipynb   .ipynb   \n",
       "\n",
       "   Creation time  Modified time    Size  \n",
       "0   1.556492e+09   1.556492e+09  202.18  \n",
       "1   1.553546e+09   1.599918e+09    0.00  \n",
       "2   1.558729e+09   1.558729e+09    0.07  \n",
       "3   1.599601e+09   1.599601e+09    0.05  \n",
       "4   1.570129e+09   1.570129e+09    0.00  "
      ]
     },
     "execution_count": 158,
     "metadata": {},
     "output_type": "execute_result"
    }
   ],
   "source": [
    "#Сконверуем в датафрейм\n",
    "df = pd.DataFrame(data_tuples, columns=['FullPath', 'FileName',\n",
    "                                              'FileExt', 'Creation time', 'Modified time', 'Size', ])\n",
    "\n",
    "#взглянем на наш датафрейм, с ним будем работать постепенно добавляя данные\n",
    "#время в unixtime\n",
    "df.head()"
   ]
  },
  {
   "cell_type": "code",
   "execution_count": 314,
   "metadata": {
    "scrolled": false
   },
   "outputs": [
    {
     "data": {
      "text/plain": [
       ".py           1778\n",
       ".pyc          1699\n",
       "               686\n",
       ".jpg           174\n",
       ".загружено      70\n",
       ".pyd            59\n",
       ".css            39\n",
       ".txt            39\n",
       ".png            32\n",
       ".csv            29\n",
       ".h              27\n",
       ".npy            24\n",
       ".exe            24\n",
       ".xml            22\n",
       ".vmdk           17\n",
       ".f90            15\n",
       ".trec           13\n",
       ".gz             13\n",
       ".pkl            12\n",
       ".js             11\n",
       "Name: FileExt, dtype: int64"
      ]
     },
     "execution_count": 314,
     "metadata": {},
     "output_type": "execute_result"
    }
   ],
   "source": [
    "df.FileExt.value_counts()[:20]"
   ]
  },
  {
   "cell_type": "code",
   "execution_count": 302,
   "metadata": {},
   "outputs": [
    {
     "data": {
      "text/html": [
       "<div>\n",
       "<style scoped>\n",
       "    .dataframe tbody tr th:only-of-type {\n",
       "        vertical-align: middle;\n",
       "    }\n",
       "\n",
       "    .dataframe tbody tr th {\n",
       "        vertical-align: top;\n",
       "    }\n",
       "\n",
       "    .dataframe thead th {\n",
       "        text-align: right;\n",
       "    }\n",
       "</style>\n",
       "<table border=\"1\" class=\"dataframe\">\n",
       "  <thead>\n",
       "    <tr style=\"text-align: right;\">\n",
       "      <th></th>\n",
       "      <th>FullPath</th>\n",
       "      <th>FileName</th>\n",
       "      <th>FileExt</th>\n",
       "      <th>Creation time</th>\n",
       "      <th>Modified time</th>\n",
       "      <th>Size</th>\n",
       "      <th>Creation time formatted</th>\n",
       "      <th>Modified time formatted</th>\n",
       "      <th>Dates</th>\n",
       "      <th>Creation Date</th>\n",
       "      <th>Creation Time</th>\n",
       "      <th>Modified Date</th>\n",
       "      <th>Modified Time</th>\n",
       "    </tr>\n",
       "  </thead>\n",
       "  <tbody>\n",
       "    <tr>\n",
       "      <th>4635</th>\n",
       "      <td>C:\\Users\\Serg\\Documents\\ыыыы\\Новости_files\\028...</td>\n",
       "      <td>028bfab8c6a4c40a39372d9a5126be84.aecded3a49e6c...</td>\n",
       "      <td>.загружено</td>\n",
       "      <td>1.584063e+09</td>\n",
       "      <td>1.584063e+09</td>\n",
       "      <td>0.02</td>\n",
       "      <td>2020-03-13 01:29:12</td>\n",
       "      <td>2020-03-13 01:29:12</td>\n",
       "      <td>2020-03-13</td>\n",
       "      <td>2020-03-13</td>\n",
       "      <td>01:29:12</td>\n",
       "      <td>2020-03-13</td>\n",
       "      <td>01:29:12</td>\n",
       "    </tr>\n",
       "    <tr>\n",
       "      <th>4638</th>\n",
       "      <td>C:\\Users\\Serg\\Documents\\ыыыы\\Новости_files\\37d...</td>\n",
       "      <td>37d6fe1fee6fb6accf5867cbca2cda9c.784f9f81af390...</td>\n",
       "      <td>.загружено</td>\n",
       "      <td>1.584063e+09</td>\n",
       "      <td>1.584063e+09</td>\n",
       "      <td>0.18</td>\n",
       "      <td>2020-03-13 01:29:09</td>\n",
       "      <td>2020-03-13 01:29:09</td>\n",
       "      <td>2020-03-13</td>\n",
       "      <td>2020-03-13</td>\n",
       "      <td>01:29:09</td>\n",
       "      <td>2020-03-13</td>\n",
       "      <td>01:29:09</td>\n",
       "    </tr>\n",
       "    <tr>\n",
       "      <th>4646</th>\n",
       "      <td>C:\\Users\\Serg\\Documents\\ыыыы\\Новости_files\\479...</td>\n",
       "      <td>47935798a9fc8df8781f.js.загружено</td>\n",
       "      <td>.загружено</td>\n",
       "      <td>1.584063e+09</td>\n",
       "      <td>1.584063e+09</td>\n",
       "      <td>0.01</td>\n",
       "      <td>2020-03-13 01:29:18</td>\n",
       "      <td>2020-03-13 01:29:18</td>\n",
       "      <td>2020-03-13</td>\n",
       "      <td>2020-03-13</td>\n",
       "      <td>01:29:18</td>\n",
       "      <td>2020-03-13</td>\n",
       "      <td>01:29:18</td>\n",
       "    </tr>\n",
       "    <tr>\n",
       "      <th>4648</th>\n",
       "      <td>C:\\Users\\Serg\\Documents\\ыыыы\\Новости_files\\4ad...</td>\n",
       "      <td>4ad6740d9b54e18c214b1584b85679ea.f9996a8f7ac73...</td>\n",
       "      <td>.загружено</td>\n",
       "      <td>1.584063e+09</td>\n",
       "      <td>1.584063e+09</td>\n",
       "      <td>0.10</td>\n",
       "      <td>2020-03-13 01:29:10</td>\n",
       "      <td>2020-03-13 01:29:10</td>\n",
       "      <td>2020-03-13</td>\n",
       "      <td>2020-03-13</td>\n",
       "      <td>01:29:10</td>\n",
       "      <td>2020-03-13</td>\n",
       "      <td>01:29:10</td>\n",
       "    </tr>\n",
       "    <tr>\n",
       "      <th>4652</th>\n",
       "      <td>C:\\Users\\Serg\\Documents\\ыыыы\\Новости_files\\61d...</td>\n",
       "      <td>61d8b4ea43bdae5d02a3f103ba5a6da4.3e8b0df3175d4...</td>\n",
       "      <td>.загружено</td>\n",
       "      <td>1.584063e+09</td>\n",
       "      <td>1.584063e+09</td>\n",
       "      <td>0.02</td>\n",
       "      <td>2020-03-13 01:29:08</td>\n",
       "      <td>2020-03-13 01:29:08</td>\n",
       "      <td>2020-03-13</td>\n",
       "      <td>2020-03-13</td>\n",
       "      <td>01:29:08</td>\n",
       "      <td>2020-03-13</td>\n",
       "      <td>01:29:08</td>\n",
       "    </tr>\n",
       "    <tr>\n",
       "      <th>...</th>\n",
       "      <td>...</td>\n",
       "      <td>...</td>\n",
       "      <td>...</td>\n",
       "      <td>...</td>\n",
       "      <td>...</td>\n",
       "      <td>...</td>\n",
       "      <td>...</td>\n",
       "      <td>...</td>\n",
       "      <td>...</td>\n",
       "      <td>...</td>\n",
       "      <td>...</td>\n",
       "      <td>...</td>\n",
       "      <td>...</td>\n",
       "    </tr>\n",
       "    <tr>\n",
       "      <th>4893</th>\n",
       "      <td>C:\\Users\\Serg\\Documents\\ыыыы\\Новости_files\\vid...</td>\n",
       "      <td>video_youtube.102f54c27b29a235da47.js.загружено</td>\n",
       "      <td>.загружено</td>\n",
       "      <td>1.584063e+09</td>\n",
       "      <td>1.584063e+09</td>\n",
       "      <td>0.02</td>\n",
       "      <td>2020-03-13 01:29:21</td>\n",
       "      <td>2020-03-13 01:29:21</td>\n",
       "      <td>2020-03-13</td>\n",
       "      <td>2020-03-13</td>\n",
       "      <td>01:29:21</td>\n",
       "      <td>2020-03-13</td>\n",
       "      <td>01:29:21</td>\n",
       "    </tr>\n",
       "    <tr>\n",
       "      <th>4896</th>\n",
       "      <td>C:\\Users\\Serg\\Documents\\ыыыы\\Новости_files\\voi...</td>\n",
       "      <td>voice_message_player.92746c027127b09badcf.js.з...</td>\n",
       "      <td>.загружено</td>\n",
       "      <td>1.584063e+09</td>\n",
       "      <td>1.584063e+09</td>\n",
       "      <td>0.02</td>\n",
       "      <td>2020-03-13 01:29:11</td>\n",
       "      <td>2020-03-13 01:29:11</td>\n",
       "      <td>2020-03-13</td>\n",
       "      <td>2020-03-13</td>\n",
       "      <td>01:29:11</td>\n",
       "      <td>2020-03-13</td>\n",
       "      <td>01:29:11</td>\n",
       "    </tr>\n",
       "    <tr>\n",
       "      <th>4899</th>\n",
       "      <td>C:\\Users\\Serg\\Documents\\ыыыы\\Новости_files\\wat...</td>\n",
       "      <td>watch.js.загружено</td>\n",
       "      <td>.загружено</td>\n",
       "      <td>1.584063e+09</td>\n",
       "      <td>1.584063e+09</td>\n",
       "      <td>0.13</td>\n",
       "      <td>2020-03-13 01:29:18</td>\n",
       "      <td>2020-03-13 01:29:18</td>\n",
       "      <td>2020-03-13</td>\n",
       "      <td>2020-03-13</td>\n",
       "      <td>01:29:18</td>\n",
       "      <td>2020-03-13</td>\n",
       "      <td>01:29:18</td>\n",
       "    </tr>\n",
       "    <tr>\n",
       "      <th>4902</th>\n",
       "      <td>C:\\Users\\Serg\\Documents\\ыыыы\\Новости_files\\wid...</td>\n",
       "      <td>wide_dd.js.загружено</td>\n",
       "      <td>.загружено</td>\n",
       "      <td>1.584063e+09</td>\n",
       "      <td>1.584063e+09</td>\n",
       "      <td>0.01</td>\n",
       "      <td>2020-03-13 01:29:11</td>\n",
       "      <td>2020-03-13 01:29:11</td>\n",
       "      <td>2020-03-13</td>\n",
       "      <td>2020-03-13</td>\n",
       "      <td>01:29:11</td>\n",
       "      <td>2020-03-13</td>\n",
       "      <td>01:29:11</td>\n",
       "    </tr>\n",
       "    <tr>\n",
       "      <th>4906</th>\n",
       "      <td>C:\\Users\\Serg\\Documents\\ыыыы\\Новости_files\\www...</td>\n",
       "      <td>www-widgetapi.js.загружено</td>\n",
       "      <td>.загружено</td>\n",
       "      <td>1.584063e+09</td>\n",
       "      <td>1.584063e+09</td>\n",
       "      <td>0.03</td>\n",
       "      <td>2020-03-13 01:29:05</td>\n",
       "      <td>2020-03-13 01:29:05</td>\n",
       "      <td>2020-03-13</td>\n",
       "      <td>2020-03-13</td>\n",
       "      <td>01:29:05</td>\n",
       "      <td>2020-03-13</td>\n",
       "      <td>01:29:05</td>\n",
       "    </tr>\n",
       "  </tbody>\n",
       "</table>\n",
       "<p>70 rows × 13 columns</p>\n",
       "</div>"
      ],
      "text/plain": [
       "                                               FullPath  \\\n",
       "4635  C:\\Users\\Serg\\Documents\\ыыыы\\Новости_files\\028...   \n",
       "4638  C:\\Users\\Serg\\Documents\\ыыыы\\Новости_files\\37d...   \n",
       "4646  C:\\Users\\Serg\\Documents\\ыыыы\\Новости_files\\479...   \n",
       "4648  C:\\Users\\Serg\\Documents\\ыыыы\\Новости_files\\4ad...   \n",
       "4652  C:\\Users\\Serg\\Documents\\ыыыы\\Новости_files\\61d...   \n",
       "...                                                 ...   \n",
       "4893  C:\\Users\\Serg\\Documents\\ыыыы\\Новости_files\\vid...   \n",
       "4896  C:\\Users\\Serg\\Documents\\ыыыы\\Новости_files\\voi...   \n",
       "4899  C:\\Users\\Serg\\Documents\\ыыыы\\Новости_files\\wat...   \n",
       "4902  C:\\Users\\Serg\\Documents\\ыыыы\\Новости_files\\wid...   \n",
       "4906  C:\\Users\\Serg\\Documents\\ыыыы\\Новости_files\\www...   \n",
       "\n",
       "                                               FileName     FileExt  \\\n",
       "4635  028bfab8c6a4c40a39372d9a5126be84.aecded3a49e6c...  .загружено   \n",
       "4638  37d6fe1fee6fb6accf5867cbca2cda9c.784f9f81af390...  .загружено   \n",
       "4646                  47935798a9fc8df8781f.js.загружено  .загружено   \n",
       "4648  4ad6740d9b54e18c214b1584b85679ea.f9996a8f7ac73...  .загружено   \n",
       "4652  61d8b4ea43bdae5d02a3f103ba5a6da4.3e8b0df3175d4...  .загружено   \n",
       "...                                                 ...         ...   \n",
       "4893    video_youtube.102f54c27b29a235da47.js.загружено  .загружено   \n",
       "4896  voice_message_player.92746c027127b09badcf.js.з...  .загружено   \n",
       "4899                                 watch.js.загружено  .загружено   \n",
       "4902                               wide_dd.js.загружено  .загружено   \n",
       "4906                         www-widgetapi.js.загружено  .загружено   \n",
       "\n",
       "      Creation time  Modified time  Size Creation time formatted  \\\n",
       "4635   1.584063e+09   1.584063e+09  0.02     2020-03-13 01:29:12   \n",
       "4638   1.584063e+09   1.584063e+09  0.18     2020-03-13 01:29:09   \n",
       "4646   1.584063e+09   1.584063e+09  0.01     2020-03-13 01:29:18   \n",
       "4648   1.584063e+09   1.584063e+09  0.10     2020-03-13 01:29:10   \n",
       "4652   1.584063e+09   1.584063e+09  0.02     2020-03-13 01:29:08   \n",
       "...             ...            ...   ...                     ...   \n",
       "4893   1.584063e+09   1.584063e+09  0.02     2020-03-13 01:29:21   \n",
       "4896   1.584063e+09   1.584063e+09  0.02     2020-03-13 01:29:11   \n",
       "4899   1.584063e+09   1.584063e+09  0.13     2020-03-13 01:29:18   \n",
       "4902   1.584063e+09   1.584063e+09  0.01     2020-03-13 01:29:11   \n",
       "4906   1.584063e+09   1.584063e+09  0.03     2020-03-13 01:29:05   \n",
       "\n",
       "     Modified time formatted       Dates Creation Date Creation Time  \\\n",
       "4635     2020-03-13 01:29:12  2020-03-13    2020-03-13      01:29:12   \n",
       "4638     2020-03-13 01:29:09  2020-03-13    2020-03-13      01:29:09   \n",
       "4646     2020-03-13 01:29:18  2020-03-13    2020-03-13      01:29:18   \n",
       "4648     2020-03-13 01:29:10  2020-03-13    2020-03-13      01:29:10   \n",
       "4652     2020-03-13 01:29:08  2020-03-13    2020-03-13      01:29:08   \n",
       "...                      ...         ...           ...           ...   \n",
       "4893     2020-03-13 01:29:21  2020-03-13    2020-03-13      01:29:21   \n",
       "4896     2020-03-13 01:29:11  2020-03-13    2020-03-13      01:29:11   \n",
       "4899     2020-03-13 01:29:18  2020-03-13    2020-03-13      01:29:18   \n",
       "4902     2020-03-13 01:29:11  2020-03-13    2020-03-13      01:29:11   \n",
       "4906     2020-03-13 01:29:05  2020-03-13    2020-03-13      01:29:05   \n",
       "\n",
       "     Modified Date Modified Time  \n",
       "4635    2020-03-13      01:29:12  \n",
       "4638    2020-03-13      01:29:09  \n",
       "4646    2020-03-13      01:29:18  \n",
       "4648    2020-03-13      01:29:10  \n",
       "4652    2020-03-13      01:29:08  \n",
       "...            ...           ...  \n",
       "4893    2020-03-13      01:29:21  \n",
       "4896    2020-03-13      01:29:11  \n",
       "4899    2020-03-13      01:29:18  \n",
       "4902    2020-03-13      01:29:11  \n",
       "4906    2020-03-13      01:29:05  \n",
       "\n",
       "[70 rows x 13 columns]"
      ]
     },
     "execution_count": 302,
     "metadata": {},
     "output_type": "execute_result"
    }
   ],
   "source": [
    "df[df.FileExt == '.загружено']"
   ]
  },
  {
   "cell_type": "code",
   "execution_count": null,
   "metadata": {},
   "outputs": [],
   "source": []
  },
  {
   "cell_type": "code",
   "execution_count": 250,
   "metadata": {},
   "outputs": [],
   "source": [
    "def unixtimecovert(unixtime):\n",
    "    return datetime.utcfromtimestamp(unixtime).strftime('%Y-%m-%d %H:%M:%S')\n",
    "\n",
    "\n",
    "df['Creation time formatted'] = df['Creation time'].apply(unixtimecovert)\n",
    "df['Modified time formatted'] = df['Creation time'].apply(unixtimecovert)\n",
    "\n",
    "\n",
    "#df['Time'],df['Date']= df['Creation time'].apply(lambda x:x.time()),\n",
    "#df['Creation time'].apply(lambda x:x.date())\n",
    "\n",
    "#Разделим полученное столбец на столбец даты создания файла и времени создания файла\n",
    "#подобное разделение позволит посмотреть на дни и время когда больше всего создается файлов\n",
    "df['Creation Date'] = pd.to_datetime(df['Creation time formatted'], format='%Y-%m-%d').dt.date\n",
    "df['Creation Time'] = pd.to_datetime(df['Creation time formatted'], format='%Y-%m-%d').dt.time\n",
    "\n",
    "#Подобное преобразование проделаем с датоой изменения файла, чтобы лучше видеть\n",
    "df['Modified Date'] = pd.to_datetime(df['Modified time formatted'], format='%Y-%m-%d').dt.date\n",
    "df['Modified Time'] = pd.to_datetime(df['Modified time formatted'], format='%Y-%m-%d').dt.time"
   ]
  },
  {
   "cell_type": "code",
   "execution_count": 202,
   "metadata": {},
   "outputs": [],
   "source": [
    "print(df['Dates'].min().strftime(\"%m/%d/%Y\"))"
   ]
  },
  {
   "cell_type": "code",
   "execution_count": 209,
   "metadata": {},
   "outputs": [
    {
     "data": {
      "text/plain": [
       "25"
      ]
     },
     "execution_count": 209,
     "metadata": {},
     "output_type": "execute_result"
    }
   ],
   "source": [
    "d = df['Creation Date'][1]"
   ]
  },
  {
   "cell_type": "code",
   "execution_count": 207,
   "metadata": {},
   "outputs": [
    {
     "ename": "AttributeError",
     "evalue": "type object 'datetime.datetime' has no attribute 'datetime'",
     "output_type": "error",
     "traceback": [
      "\u001b[1;31m---------------------------------------------------------------------------\u001b[0m",
      "\u001b[1;31mAttributeError\u001b[0m                            Traceback (most recent call last)",
      "\u001b[1;32m<ipython-input-207-ba2b97a30649>\u001b[0m in \u001b[0;36m<module>\u001b[1;34m\u001b[0m\n\u001b[1;32m----> 1\u001b[1;33m \u001b[0mdf\u001b[0m\u001b[1;33m[\u001b[0m\u001b[1;34m'Creation Date'\u001b[0m\u001b[1;33m]\u001b[0m\u001b[1;33m[\u001b[0m\u001b[1;36m1\u001b[0m\u001b[1;33m]\u001b[0m \u001b[1;33m>\u001b[0m \u001b[0mdatetime\u001b[0m\u001b[1;33m.\u001b[0m\u001b[0mdatetime\u001b[0m\u001b[1;33m.\u001b[0m\u001b[0mstrptime\u001b[0m\u001b[1;33m(\u001b[0m\u001b[1;34m'20190506'\u001b[0m\u001b[1;33m,\u001b[0m \u001b[1;34m\"%Y%m%d\"\u001b[0m\u001b[1;33m)\u001b[0m\u001b[1;33m\u001b[0m\u001b[1;33m\u001b[0m\u001b[0m\n\u001b[0m",
      "\u001b[1;31mAttributeError\u001b[0m: type object 'datetime.datetime' has no attribute 'datetime'"
     ]
    }
   ],
   "source": [
    "df['Creation Date'][1] > datetime.datetime.strptime('20190506', \"%Y%m%d\")"
   ]
  },
  {
   "cell_type": "code",
   "execution_count": 274,
   "metadata": {
    "scrolled": true
   },
   "outputs": [
    {
     "ename": "TypeError",
     "evalue": "strptime() takes exactly 2 arguments (0 given)",
     "output_type": "error",
     "traceback": [
      "\u001b[1;31m---------------------------------------------------------------------------\u001b[0m",
      "\u001b[1;31mTypeError\u001b[0m                                 Traceback (most recent call last)",
      "\u001b[1;32m<ipython-input-274-feef5f68f38c>\u001b[0m in \u001b[0;36m<module>\u001b[1;34m\u001b[0m\n\u001b[1;32m----> 1\u001b[1;33m \u001b[0mdatetime\u001b[0m\u001b[1;33m.\u001b[0m\u001b[0mstrptime\u001b[0m\u001b[1;33m(\u001b[0m\u001b[1;33m)\u001b[0m\u001b[1;33m\u001b[0m\u001b[1;33m\u001b[0m\u001b[0m\n\u001b[0m",
      "\u001b[1;31mTypeError\u001b[0m: strptime() takes exactly 2 arguments (0 given)"
     ]
    }
   ],
   "source": [
    "datetime.strptime()"
   ]
  },
  {
   "cell_type": "code",
   "execution_count": 312,
   "metadata": {},
   "outputs": [
    {
     "name": "stdout",
     "output_type": "stream",
     "text": [
      "04/25/2018\n"
     ]
    }
   ],
   "source": []
  },
  {
   "cell_type": "code",
   "execution_count": 306,
   "metadata": {
    "scrolled": true
   },
   "outputs": [
    {
     "data": {
      "text/plain": [
       "2020-03-26    4425\n",
       "2020-03-13     293\n",
       "2019-05-24      32\n",
       "2020-08-10      20\n",
       "2020-07-23      19\n",
       "              ... \n",
       "2019-06-05       1\n",
       "2020-03-17       1\n",
       "2020-09-07       1\n",
       "2020-06-08       1\n",
       "2020-06-13       1\n",
       "Name: Dates, Length: 62, dtype: int64"
      ]
     },
     "execution_count": 306,
     "metadata": {},
     "output_type": "execute_result"
    }
   ],
   "source": [
    "#Сгруппируем файлы по дням создания\n",
    "df['Dates'].value_counts()"
   ]
  },
  {
   "cell_type": "code",
   "execution_count": 304,
   "metadata": {},
   "outputs": [
    {
     "data": {
      "text/plain": [
       "datetime.date"
      ]
     },
     "execution_count": 304,
     "metadata": {},
     "output_type": "execute_result"
    }
   ],
   "source": [
    "type(df['Dates'][1])"
   ]
  },
  {
   "cell_type": "code",
   "execution_count": 287,
   "metadata": {},
   "outputs": [
    {
     "data": {
      "text/plain": [
       "datetime.date(2020, 9, 13)"
      ]
     },
     "execution_count": 287,
     "metadata": {},
     "output_type": "execute_result"
    }
   ],
   "source": []
  },
  {
   "cell_type": "code",
   "execution_count": 297,
   "metadata": {
    "scrolled": true
   },
   "outputs": [],
   "source": [
    "#Вытащим  файлы, которые были созданы более 3 месяцев назад\n",
    "# сравниваем дата создания фала больше ли сегодняшней даты - 90 дней\n",
    "# обернем для простоты в функцию\n",
    "\n",
    "\n",
    "##Подсчитываем, сколько дней прошло с даты создания файла\n",
    "from datetime import datetime, timedelta\n",
    "\n",
    "def count_days(date_for_count):    \n",
    "    date_now = datetime.now().date()\n",
    "    return (date_now - date_for_count).days\n"
   ]
  },
  {
   "cell_type": "code",
   "execution_count": 298,
   "metadata": {},
   "outputs": [
    {
     "data": {
      "text/plain": [
       "538"
      ]
     },
     "execution_count": 298,
     "metadata": {},
     "output_type": "execute_result"
    }
   ],
   "source": [
    "df['Count days']) = df"
   ]
  },
  {
   "cell_type": "code",
   "execution_count": 294,
   "metadata": {},
   "outputs": [
    {
     "data": {
      "text/plain": [
       "538"
      ]
     },
     "execution_count": 294,
     "metadata": {},
     "output_type": "execute_result"
    }
   ],
   "source": [
    "date_1 = df['Creation Date'][1]\n",
    "date_now = datetime.now().date()\n",
    "(date_now - date_1).days"
   ]
  },
  {
   "cell_type": "code",
   "execution_count": 288,
   "metadata": {},
   "outputs": [
    {
     "ename": "TypeError",
     "evalue": "strptime() argument 1 must be str, not datetime.date",
     "output_type": "error",
     "traceback": [
      "\u001b[1;31m---------------------------------------------------------------------------\u001b[0m",
      "\u001b[1;31mTypeError\u001b[0m                                 Traceback (most recent call last)",
      "\u001b[1;32m<ipython-input-288-630cbcd57206>\u001b[0m in \u001b[0;36m<module>\u001b[1;34m\u001b[0m\n\u001b[0;32m      2\u001b[0m \u001b[1;33m\u001b[0m\u001b[0m\n\u001b[0;32m      3\u001b[0m \u001b[0mdate_format\u001b[0m \u001b[1;33m=\u001b[0m \u001b[1;34m\"%m/%d/%y\"\u001b[0m\u001b[1;33m\u001b[0m\u001b[1;33m\u001b[0m\u001b[0m\n\u001b[1;32m----> 4\u001b[1;33m \u001b[0mdatetime\u001b[0m\u001b[1;33m.\u001b[0m\u001b[0mstrptime\u001b[0m\u001b[1;33m(\u001b[0m\u001b[0mdf\u001b[0m\u001b[1;33m[\u001b[0m\u001b[1;34m'Creation Date'\u001b[0m\u001b[1;33m]\u001b[0m\u001b[1;33m[\u001b[0m\u001b[1;36m1\u001b[0m\u001b[1;33m]\u001b[0m\u001b[1;33m,\u001b[0m \u001b[0mdate_format\u001b[0m\u001b[1;33m)\u001b[0m\u001b[1;33m\u001b[0m\u001b[1;33m\u001b[0m\u001b[0m\n\u001b[0m",
      "\u001b[1;31mTypeError\u001b[0m: strptime() argument 1 must be str, not datetime.date"
     ]
    }
   ],
   "source": [
    "from datetime import datetime\n",
    "\n",
    "date_format = \"%m/%d/%y\"\n",
    "datetime.strptime(df['Creation Date'][1], date_format)"
   ]
  },
  {
   "cell_type": "code",
   "execution_count": 282,
   "metadata": {},
   "outputs": [
    {
     "ename": "TypeError",
     "evalue": "'(['Creation Date'], 1)' is an invalid key",
     "output_type": "error",
     "traceback": [
      "\u001b[1;31m---------------------------------------------------------------------------\u001b[0m",
      "\u001b[1;31mTypeError\u001b[0m                                 Traceback (most recent call last)",
      "\u001b[1;32m<ipython-input-282-7e633db1c05e>\u001b[0m in \u001b[0;36m<module>\u001b[1;34m\u001b[0m\n\u001b[1;32m----> 1\u001b[1;33m \u001b[0mdf\u001b[0m\u001b[1;33m[\u001b[0m\u001b[1;33m[\u001b[0m\u001b[1;34m'Creation Date'\u001b[0m\u001b[1;33m]\u001b[0m\u001b[1;33m,\u001b[0m \u001b[1;36m1\u001b[0m\u001b[1;33m]\u001b[0m\u001b[1;33m\u001b[0m\u001b[1;33m\u001b[0m\u001b[0m\n\u001b[0m",
      "\u001b[1;32m~\\Anaconda3\\lib\\site-packages\\pandas\\core\\frame.py\u001b[0m in \u001b[0;36m__getitem__\u001b[1;34m(self, key)\u001b[0m\n\u001b[0;32m   2798\u001b[0m             \u001b[1;32mif\u001b[0m \u001b[0mself\u001b[0m\u001b[1;33m.\u001b[0m\u001b[0mcolumns\u001b[0m\u001b[1;33m.\u001b[0m\u001b[0mnlevels\u001b[0m \u001b[1;33m>\u001b[0m \u001b[1;36m1\u001b[0m\u001b[1;33m:\u001b[0m\u001b[1;33m\u001b[0m\u001b[1;33m\u001b[0m\u001b[0m\n\u001b[0;32m   2799\u001b[0m                 \u001b[1;32mreturn\u001b[0m \u001b[0mself\u001b[0m\u001b[1;33m.\u001b[0m\u001b[0m_getitem_multilevel\u001b[0m\u001b[1;33m(\u001b[0m\u001b[0mkey\u001b[0m\u001b[1;33m)\u001b[0m\u001b[1;33m\u001b[0m\u001b[1;33m\u001b[0m\u001b[0m\n\u001b[1;32m-> 2800\u001b[1;33m             \u001b[0mindexer\u001b[0m \u001b[1;33m=\u001b[0m \u001b[0mself\u001b[0m\u001b[1;33m.\u001b[0m\u001b[0mcolumns\u001b[0m\u001b[1;33m.\u001b[0m\u001b[0mget_loc\u001b[0m\u001b[1;33m(\u001b[0m\u001b[0mkey\u001b[0m\u001b[1;33m)\u001b[0m\u001b[1;33m\u001b[0m\u001b[1;33m\u001b[0m\u001b[0m\n\u001b[0m\u001b[0;32m   2801\u001b[0m             \u001b[1;32mif\u001b[0m \u001b[0mis_integer\u001b[0m\u001b[1;33m(\u001b[0m\u001b[0mindexer\u001b[0m\u001b[1;33m)\u001b[0m\u001b[1;33m:\u001b[0m\u001b[1;33m\u001b[0m\u001b[1;33m\u001b[0m\u001b[0m\n\u001b[0;32m   2802\u001b[0m                 \u001b[0mindexer\u001b[0m \u001b[1;33m=\u001b[0m \u001b[1;33m[\u001b[0m\u001b[0mindexer\u001b[0m\u001b[1;33m]\u001b[0m\u001b[1;33m\u001b[0m\u001b[1;33m\u001b[0m\u001b[0m\n",
      "\u001b[1;32m~\\Anaconda3\\lib\\site-packages\\pandas\\core\\indexes\\base.py\u001b[0m in \u001b[0;36mget_loc\u001b[1;34m(self, key, method, tolerance)\u001b[0m\n\u001b[0;32m   2644\u001b[0m                 )\n\u001b[0;32m   2645\u001b[0m             \u001b[1;32mtry\u001b[0m\u001b[1;33m:\u001b[0m\u001b[1;33m\u001b[0m\u001b[1;33m\u001b[0m\u001b[0m\n\u001b[1;32m-> 2646\u001b[1;33m                 \u001b[1;32mreturn\u001b[0m \u001b[0mself\u001b[0m\u001b[1;33m.\u001b[0m\u001b[0m_engine\u001b[0m\u001b[1;33m.\u001b[0m\u001b[0mget_loc\u001b[0m\u001b[1;33m(\u001b[0m\u001b[0mkey\u001b[0m\u001b[1;33m)\u001b[0m\u001b[1;33m\u001b[0m\u001b[1;33m\u001b[0m\u001b[0m\n\u001b[0m\u001b[0;32m   2647\u001b[0m             \u001b[1;32mexcept\u001b[0m \u001b[0mKeyError\u001b[0m\u001b[1;33m:\u001b[0m\u001b[1;33m\u001b[0m\u001b[1;33m\u001b[0m\u001b[0m\n\u001b[0;32m   2648\u001b[0m                 \u001b[1;32mreturn\u001b[0m \u001b[0mself\u001b[0m\u001b[1;33m.\u001b[0m\u001b[0m_engine\u001b[0m\u001b[1;33m.\u001b[0m\u001b[0mget_loc\u001b[0m\u001b[1;33m(\u001b[0m\u001b[0mself\u001b[0m\u001b[1;33m.\u001b[0m\u001b[0m_maybe_cast_indexer\u001b[0m\u001b[1;33m(\u001b[0m\u001b[0mkey\u001b[0m\u001b[1;33m)\u001b[0m\u001b[1;33m)\u001b[0m\u001b[1;33m\u001b[0m\u001b[1;33m\u001b[0m\u001b[0m\n",
      "\u001b[1;32mpandas\\_libs\\index.pyx\u001b[0m in \u001b[0;36mpandas._libs.index.IndexEngine.get_loc\u001b[1;34m()\u001b[0m\n",
      "\u001b[1;32mpandas\\_libs\\index.pyx\u001b[0m in \u001b[0;36mpandas._libs.index.IndexEngine.get_loc\u001b[1;34m()\u001b[0m\n",
      "\u001b[1;31mTypeError\u001b[0m: '(['Creation Date'], 1)' is an invalid key"
     ]
    }
   ],
   "source": [
    "df[['Creation Date']]"
   ]
  },
  {
   "cell_type": "code",
   "execution_count": 277,
   "metadata": {},
   "outputs": [
    {
     "ename": "KeyError",
     "evalue": "1",
     "output_type": "error",
     "traceback": [
      "\u001b[1;31m---------------------------------------------------------------------------\u001b[0m",
      "\u001b[1;31mKeyError\u001b[0m                                  Traceback (most recent call last)",
      "\u001b[1;32m~\\Anaconda3\\lib\\site-packages\\pandas\\core\\indexes\\base.py\u001b[0m in \u001b[0;36mget_loc\u001b[1;34m(self, key, method, tolerance)\u001b[0m\n\u001b[0;32m   2645\u001b[0m             \u001b[1;32mtry\u001b[0m\u001b[1;33m:\u001b[0m\u001b[1;33m\u001b[0m\u001b[1;33m\u001b[0m\u001b[0m\n\u001b[1;32m-> 2646\u001b[1;33m                 \u001b[1;32mreturn\u001b[0m \u001b[0mself\u001b[0m\u001b[1;33m.\u001b[0m\u001b[0m_engine\u001b[0m\u001b[1;33m.\u001b[0m\u001b[0mget_loc\u001b[0m\u001b[1;33m(\u001b[0m\u001b[0mkey\u001b[0m\u001b[1;33m)\u001b[0m\u001b[1;33m\u001b[0m\u001b[1;33m\u001b[0m\u001b[0m\n\u001b[0m\u001b[0;32m   2647\u001b[0m             \u001b[1;32mexcept\u001b[0m \u001b[0mKeyError\u001b[0m\u001b[1;33m:\u001b[0m\u001b[1;33m\u001b[0m\u001b[1;33m\u001b[0m\u001b[0m\n",
      "\u001b[1;32mpandas\\_libs\\index.pyx\u001b[0m in \u001b[0;36mpandas._libs.index.IndexEngine.get_loc\u001b[1;34m()\u001b[0m\n",
      "\u001b[1;32mpandas\\_libs\\index.pyx\u001b[0m in \u001b[0;36mpandas._libs.index.IndexEngine.get_loc\u001b[1;34m()\u001b[0m\n",
      "\u001b[1;32mpandas\\_libs\\hashtable_class_helper.pxi\u001b[0m in \u001b[0;36mpandas._libs.hashtable.PyObjectHashTable.get_item\u001b[1;34m()\u001b[0m\n",
      "\u001b[1;32mpandas\\_libs\\hashtable_class_helper.pxi\u001b[0m in \u001b[0;36mpandas._libs.hashtable.PyObjectHashTable.get_item\u001b[1;34m()\u001b[0m\n",
      "\u001b[1;31mKeyError\u001b[0m: 1",
      "\nDuring handling of the above exception, another exception occurred:\n",
      "\u001b[1;31mKeyError\u001b[0m                                  Traceback (most recent call last)",
      "\u001b[1;32m<ipython-input-277-d5d01208aa57>\u001b[0m in \u001b[0;36m<module>\u001b[1;34m\u001b[0m\n\u001b[1;32m----> 1\u001b[1;33m \u001b[0mcompare_date\u001b[0m\u001b[1;33m(\u001b[0m\u001b[0mdf\u001b[0m\u001b[1;33m[\u001b[0m\u001b[1;33m[\u001b[0m\u001b[1;34m'Creation Date'\u001b[0m\u001b[1;33m]\u001b[0m\u001b[1;33m]\u001b[0m\u001b[1;33m[\u001b[0m\u001b[1;36m1\u001b[0m\u001b[1;33m]\u001b[0m\u001b[1;33m)\u001b[0m\u001b[1;33m\u001b[0m\u001b[1;33m\u001b[0m\u001b[0m\n\u001b[0m",
      "\u001b[1;32m~\\Anaconda3\\lib\\site-packages\\pandas\\core\\frame.py\u001b[0m in \u001b[0;36m__getitem__\u001b[1;34m(self, key)\u001b[0m\n\u001b[0;32m   2798\u001b[0m             \u001b[1;32mif\u001b[0m \u001b[0mself\u001b[0m\u001b[1;33m.\u001b[0m\u001b[0mcolumns\u001b[0m\u001b[1;33m.\u001b[0m\u001b[0mnlevels\u001b[0m \u001b[1;33m>\u001b[0m \u001b[1;36m1\u001b[0m\u001b[1;33m:\u001b[0m\u001b[1;33m\u001b[0m\u001b[1;33m\u001b[0m\u001b[0m\n\u001b[0;32m   2799\u001b[0m                 \u001b[1;32mreturn\u001b[0m \u001b[0mself\u001b[0m\u001b[1;33m.\u001b[0m\u001b[0m_getitem_multilevel\u001b[0m\u001b[1;33m(\u001b[0m\u001b[0mkey\u001b[0m\u001b[1;33m)\u001b[0m\u001b[1;33m\u001b[0m\u001b[1;33m\u001b[0m\u001b[0m\n\u001b[1;32m-> 2800\u001b[1;33m             \u001b[0mindexer\u001b[0m \u001b[1;33m=\u001b[0m \u001b[0mself\u001b[0m\u001b[1;33m.\u001b[0m\u001b[0mcolumns\u001b[0m\u001b[1;33m.\u001b[0m\u001b[0mget_loc\u001b[0m\u001b[1;33m(\u001b[0m\u001b[0mkey\u001b[0m\u001b[1;33m)\u001b[0m\u001b[1;33m\u001b[0m\u001b[1;33m\u001b[0m\u001b[0m\n\u001b[0m\u001b[0;32m   2801\u001b[0m             \u001b[1;32mif\u001b[0m \u001b[0mis_integer\u001b[0m\u001b[1;33m(\u001b[0m\u001b[0mindexer\u001b[0m\u001b[1;33m)\u001b[0m\u001b[1;33m:\u001b[0m\u001b[1;33m\u001b[0m\u001b[1;33m\u001b[0m\u001b[0m\n\u001b[0;32m   2802\u001b[0m                 \u001b[0mindexer\u001b[0m \u001b[1;33m=\u001b[0m \u001b[1;33m[\u001b[0m\u001b[0mindexer\u001b[0m\u001b[1;33m]\u001b[0m\u001b[1;33m\u001b[0m\u001b[1;33m\u001b[0m\u001b[0m\n",
      "\u001b[1;32m~\\Anaconda3\\lib\\site-packages\\pandas\\core\\indexes\\base.py\u001b[0m in \u001b[0;36mget_loc\u001b[1;34m(self, key, method, tolerance)\u001b[0m\n\u001b[0;32m   2646\u001b[0m                 \u001b[1;32mreturn\u001b[0m \u001b[0mself\u001b[0m\u001b[1;33m.\u001b[0m\u001b[0m_engine\u001b[0m\u001b[1;33m.\u001b[0m\u001b[0mget_loc\u001b[0m\u001b[1;33m(\u001b[0m\u001b[0mkey\u001b[0m\u001b[1;33m)\u001b[0m\u001b[1;33m\u001b[0m\u001b[1;33m\u001b[0m\u001b[0m\n\u001b[0;32m   2647\u001b[0m             \u001b[1;32mexcept\u001b[0m \u001b[0mKeyError\u001b[0m\u001b[1;33m:\u001b[0m\u001b[1;33m\u001b[0m\u001b[1;33m\u001b[0m\u001b[0m\n\u001b[1;32m-> 2648\u001b[1;33m                 \u001b[1;32mreturn\u001b[0m \u001b[0mself\u001b[0m\u001b[1;33m.\u001b[0m\u001b[0m_engine\u001b[0m\u001b[1;33m.\u001b[0m\u001b[0mget_loc\u001b[0m\u001b[1;33m(\u001b[0m\u001b[0mself\u001b[0m\u001b[1;33m.\u001b[0m\u001b[0m_maybe_cast_indexer\u001b[0m\u001b[1;33m(\u001b[0m\u001b[0mkey\u001b[0m\u001b[1;33m)\u001b[0m\u001b[1;33m)\u001b[0m\u001b[1;33m\u001b[0m\u001b[1;33m\u001b[0m\u001b[0m\n\u001b[0m\u001b[0;32m   2649\u001b[0m         \u001b[0mindexer\u001b[0m \u001b[1;33m=\u001b[0m \u001b[0mself\u001b[0m\u001b[1;33m.\u001b[0m\u001b[0mget_indexer\u001b[0m\u001b[1;33m(\u001b[0m\u001b[1;33m[\u001b[0m\u001b[0mkey\u001b[0m\u001b[1;33m]\u001b[0m\u001b[1;33m,\u001b[0m \u001b[0mmethod\u001b[0m\u001b[1;33m=\u001b[0m\u001b[0mmethod\u001b[0m\u001b[1;33m,\u001b[0m \u001b[0mtolerance\u001b[0m\u001b[1;33m=\u001b[0m\u001b[0mtolerance\u001b[0m\u001b[1;33m)\u001b[0m\u001b[1;33m\u001b[0m\u001b[1;33m\u001b[0m\u001b[0m\n\u001b[0;32m   2650\u001b[0m         \u001b[1;32mif\u001b[0m \u001b[0mindexer\u001b[0m\u001b[1;33m.\u001b[0m\u001b[0mndim\u001b[0m \u001b[1;33m>\u001b[0m \u001b[1;36m1\u001b[0m \u001b[1;32mor\u001b[0m \u001b[0mindexer\u001b[0m\u001b[1;33m.\u001b[0m\u001b[0msize\u001b[0m \u001b[1;33m>\u001b[0m \u001b[1;36m1\u001b[0m\u001b[1;33m:\u001b[0m\u001b[1;33m\u001b[0m\u001b[1;33m\u001b[0m\u001b[0m\n",
      "\u001b[1;32mpandas\\_libs\\index.pyx\u001b[0m in \u001b[0;36mpandas._libs.index.IndexEngine.get_loc\u001b[1;34m()\u001b[0m\n",
      "\u001b[1;32mpandas\\_libs\\index.pyx\u001b[0m in \u001b[0;36mpandas._libs.index.IndexEngine.get_loc\u001b[1;34m()\u001b[0m\n",
      "\u001b[1;32mpandas\\_libs\\hashtable_class_helper.pxi\u001b[0m in \u001b[0;36mpandas._libs.hashtable.PyObjectHashTable.get_item\u001b[1;34m()\u001b[0m\n",
      "\u001b[1;32mpandas\\_libs\\hashtable_class_helper.pxi\u001b[0m in \u001b[0;36mpandas._libs.hashtable.PyObjectHashTable.get_item\u001b[1;34m()\u001b[0m\n",
      "\u001b[1;31mKeyError\u001b[0m: 1"
     ]
    }
   ],
   "source": []
  },
  {
   "cell_type": "code",
   "execution_count": 148,
   "metadata": {},
   "outputs": [
    {
     "name": "stdout",
     "output_type": "stream",
     "text": [
      "2020-09-08 21:31:21\n"
     ]
    }
   ],
   "source": [
    "#конвертируем UNIX-time в дату, время\n",
    "from datetime import datetime\n",
    "\n",
    "test = os.path.getctime(r'C:\\Users\\Serg\\Documents\\test.jpg')\n",
    "print(datetime.utcfromtimestamp(test).strftime('%Y-%m-%d %H:%M:%S'))"
   ]
  },
  {
   "cell_type": "code",
   "execution_count": 130,
   "metadata": {
    "scrolled": true
   },
   "outputs": [
    {
     "data": {
      "text/plain": [
       "__init__.py                         214\n",
       "__init__.cpython-37.pyc             206\n",
       "conftest.py                          21\n",
       "conftest.cpython-37.pyc              21\n",
       "common.cpython-37.pyc                16\n",
       "common.py                            16\n",
       "setup.cpython-37.pyc                 14\n",
       "setup.py                             14\n",
       "test_constructors.cpython-37.pyc     12\n",
       "test_constructors.py                 12\n",
       "webdriver.cpython-37.pyc             11\n",
       "top_level.txt                        11\n",
       "utils.py                             11\n",
       "webdriver.py                         11\n",
       "utils.cpython-37.pyc                 11\n",
       "compat.py                            10\n",
       "test_indexing.py                      9\n",
       "test_indexing.cpython-37.pyc          9\n",
       "api.cpython-37.pyc                    9\n",
       "api.py                                9\n",
       "compat.cpython-37.pyc                 9\n",
       "RECORD                                9\n",
       "METADATA                              9\n",
       "WHEEL                                 9\n",
       "INSTALLER                             9\n",
       "base.py                               9\n",
       "service.cpython-37.pyc                8\n",
       "service.py                            8\n",
       "test_period.py                        7\n",
       "test_setops.py                        7\n",
       "Name: FileName, dtype: int64"
      ]
     },
     "execution_count": 130,
     "metadata": {},
     "output_type": "execute_result"
    }
   ],
   "source": [
    "testData['FileName'].value_counts()[:30]"
   ]
  },
  {
   "cell_type": "code",
   "execution_count": 122,
   "metadata": {},
   "outputs": [
    {
     "data": {
      "text/html": [
       "<div>\n",
       "<style scoped>\n",
       "    .dataframe tbody tr th:only-of-type {\n",
       "        vertical-align: middle;\n",
       "    }\n",
       "\n",
       "    .dataframe tbody tr th {\n",
       "        vertical-align: top;\n",
       "    }\n",
       "\n",
       "    .dataframe thead th {\n",
       "        text-align: right;\n",
       "    }\n",
       "</style>\n",
       "<table border=\"1\" class=\"dataframe\">\n",
       "  <thead>\n",
       "    <tr style=\"text-align: right;\">\n",
       "      <th></th>\n",
       "      <th>FullPath</th>\n",
       "      <th>FileName</th>\n",
       "      <th>Size</th>\n",
       "    </tr>\n",
       "  </thead>\n",
       "  <tbody>\n",
       "    <tr>\n",
       "      <th>311</th>\n",
       "      <td>C:\\Users\\Serg\\Documents\\backup\\auto\\venv\\Lib\\s...</td>\n",
       "      <td>METADATA</td>\n",
       "      <td>0.00</td>\n",
       "    </tr>\n",
       "    <tr>\n",
       "      <th>1159</th>\n",
       "      <td>C:\\Users\\Serg\\Documents\\backup\\auto\\venv\\Lib\\s...</td>\n",
       "      <td>METADATA</td>\n",
       "      <td>0.00</td>\n",
       "    </tr>\n",
       "    <tr>\n",
       "      <th>2908</th>\n",
       "      <td>C:\\Users\\Serg\\Documents\\backup\\auto\\venv\\Lib\\s...</td>\n",
       "      <td>METADATA</td>\n",
       "      <td>0.00</td>\n",
       "    </tr>\n",
       "    <tr>\n",
       "      <th>3472</th>\n",
       "      <td>C:\\Users\\Serg\\Documents\\backup\\auto\\venv\\Lib\\s...</td>\n",
       "      <td>METADATA</td>\n",
       "      <td>0.01</td>\n",
       "    </tr>\n",
       "    <tr>\n",
       "      <th>4091</th>\n",
       "      <td>C:\\Users\\Serg\\Documents\\backup\\auto\\venv\\Lib\\s...</td>\n",
       "      <td>METADATA</td>\n",
       "      <td>0.02</td>\n",
       "    </tr>\n",
       "    <tr>\n",
       "      <th>4275</th>\n",
       "      <td>C:\\Users\\Serg\\Documents\\backup\\auto\\venv\\Lib\\s...</td>\n",
       "      <td>METADATA</td>\n",
       "      <td>0.01</td>\n",
       "    </tr>\n",
       "    <tr>\n",
       "      <th>4281</th>\n",
       "      <td>C:\\Users\\Serg\\Documents\\backup\\auto\\venv\\Lib\\s...</td>\n",
       "      <td>METADATA</td>\n",
       "      <td>0.00</td>\n",
       "    </tr>\n",
       "    <tr>\n",
       "      <th>4333</th>\n",
       "      <td>C:\\Users\\Serg\\Documents\\backup\\auto\\venv\\Lib\\s...</td>\n",
       "      <td>METADATA</td>\n",
       "      <td>0.05</td>\n",
       "    </tr>\n",
       "    <tr>\n",
       "      <th>4411</th>\n",
       "      <td>C:\\Users\\Serg\\Documents\\backup\\auto\\venv\\Lib\\s...</td>\n",
       "      <td>METADATA</td>\n",
       "      <td>0.04</td>\n",
       "    </tr>\n",
       "  </tbody>\n",
       "</table>\n",
       "</div>"
      ],
      "text/plain": [
       "                                               FullPath  FileName  Size\n",
       "311   C:\\Users\\Serg\\Documents\\backup\\auto\\venv\\Lib\\s...  METADATA  0.00\n",
       "1159  C:\\Users\\Serg\\Documents\\backup\\auto\\venv\\Lib\\s...  METADATA  0.00\n",
       "2908  C:\\Users\\Serg\\Documents\\backup\\auto\\venv\\Lib\\s...  METADATA  0.00\n",
       "3472  C:\\Users\\Serg\\Documents\\backup\\auto\\venv\\Lib\\s...  METADATA  0.01\n",
       "4091  C:\\Users\\Serg\\Documents\\backup\\auto\\venv\\Lib\\s...  METADATA  0.02\n",
       "4275  C:\\Users\\Serg\\Documents\\backup\\auto\\venv\\Lib\\s...  METADATA  0.01\n",
       "4281  C:\\Users\\Serg\\Documents\\backup\\auto\\venv\\Lib\\s...  METADATA  0.00\n",
       "4333  C:\\Users\\Serg\\Documents\\backup\\auto\\venv\\Lib\\s...  METADATA  0.05\n",
       "4411  C:\\Users\\Serg\\Documents\\backup\\auto\\venv\\Lib\\s...  METADATA  0.04"
      ]
     },
     "execution_count": 122,
     "metadata": {},
     "output_type": "execute_result"
    }
   ],
   "source": [
    "testData[testData['FileName'] == 'METADATA']"
   ]
  },
  {
   "cell_type": "code",
   "execution_count": 131,
   "metadata": {},
   "outputs": [],
   "source": [
    "testData['Size'].value_counts() > 1.0;"
   ]
  },
  {
   "cell_type": "code",
   "execution_count": 132,
   "metadata": {},
   "outputs": [
    {
     "ename": "SyntaxError",
     "evalue": "(unicode error) 'unicodeescape' codec can't decode bytes in position 2-3: truncated \\UXXXXXXXX escape (<ipython-input-132-937ea0f27b56>, line 1)",
     "output_type": "error",
     "traceback": [
      "\u001b[1;36m  File \u001b[1;32m\"<ipython-input-132-937ea0f27b56>\"\u001b[1;36m, line \u001b[1;32m1\u001b[0m\n\u001b[1;33m    userinfo = pwd.getpwuid(st['C:\\Users\\Serg\\Documents\\test.jpg'])\u001b[0m\n\u001b[1;37m                              ^\u001b[0m\n\u001b[1;31mSyntaxError\u001b[0m\u001b[1;31m:\u001b[0m (unicode error) 'unicodeescape' codec can't decode bytes in position 2-3: truncated \\UXXXXXXXX escape\n"
     ]
    }
   ],
   "source": [
    "userinfo = pwd.getpwuid(st['C:\\Users\\Serg\\Documents\\test.jpg'])"
   ]
  },
  {
   "cell_type": "code",
   "execution_count": 134,
   "metadata": {},
   "outputs": [],
   "source": [
    "\n",
    "fstat = os.stat(r'C:\\Users\\Serg\\Documents\\test.jpg')"
   ]
  },
  {
   "cell_type": "code",
   "execution_count": null,
   "metadata": {},
   "outputs": [],
   "source": []
  }
 ],
 "metadata": {
  "kernelspec": {
   "display_name": "Python 3",
   "language": "python",
   "name": "python3"
  },
  "language_info": {
   "codemirror_mode": {
    "name": "ipython",
    "version": 3
   },
   "file_extension": ".py",
   "mimetype": "text/x-python",
   "name": "python",
   "nbconvert_exporter": "python",
   "pygments_lexer": "ipython3",
   "version": "3.7.3"
  }
 },
 "nbformat": 4,
 "nbformat_minor": 4
}
